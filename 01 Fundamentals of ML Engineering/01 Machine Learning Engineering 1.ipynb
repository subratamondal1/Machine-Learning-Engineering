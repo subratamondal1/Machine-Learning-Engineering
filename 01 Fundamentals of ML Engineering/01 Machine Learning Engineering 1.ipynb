{
 "cells": [
  {
   "cell_type": "markdown",
   "id": "e2c1a40a-37a0-4d1f-a79e-404ba62c1477",
   "metadata": {},
   "source": [
    "# Machine Learning Engineering - 1\n",
    "---"
   ]
  },
  {
   "cell_type": "markdown",
   "id": "34543c1c-3b3f-40f0-905c-d249cef81f65",
   "metadata": {},
   "source": [
    "## Linux Basics and Terminal Commands\n",
    "---"
   ]
  },
  {
   "cell_type": "markdown",
   "id": "e772f9ec-d023-41b8-89ff-6775f89bf9bb",
   "metadata": {},
   "source": [
    "### UNIX OS"
   ]
  },
  {
   "cell_type": "markdown",
   "id": "808b0e43-f81c-43f2-bb03-02ae7ac55ce9",
   "metadata": {},
   "source": [
    "● UNIX Operating System was first developed in the 1960s at AT&T Labs.</br>\n",
    "● **Multi-user, multi-tasking** system for `servers, desktops` and `laptops`.</br>\n",
    "● Most popular varieties of UNIX are Sun Solaris, GNU/Linux, and MacOS X.</br>\n",
    "● Unix Operating System is made up of three parts: **the kernel, the shell and\n",
    "the programs**.</br>\n",
    "● The **kernel** of UNIX is the **hub** of the operating system: it allocates **time** and **memory** to programs and handles the filestore and communications in response to system calls.</br>\n",
    "● The **shell** acts as an **interface** between the user and the kernel.</br>\n",
    "● **Everything** in UNIX is either a **file or a process**.</br>"
   ]
  },
  {
   "cell_type": "markdown",
   "id": "7bce5445-e3e4-47a7-b21a-9079597970e1",
   "metadata": {},
   "source": [
    "### Commands"
   ]
  },
  {
   "cell_type": "markdown",
   "id": "4381798e-5bf3-489b-9590-e18649c61f72",
   "metadata": {},
   "source": [
    "#### Manual\n",
    "1. **`man`:** command is used to display the `user manual` of any command that we can run on the terminal. For example: `man ls`, `man cd`, etc.\n",
    "\n",
    "#### Processes\n",
    "1. **`top`:** command is used to display the `currently-running processes` and their `resource usage`, such as CPU, memory, and disk. \n",
    "\n",
    "2. **`htop`:** command that is similar to top, but with some improvements and features. It has a more user-friendly interface that supports color, mouse operation, and scrolling. \n",
    "\n",
    "3. **`ps`:** command is used to display the information about the `processes on the system`, such as their process ID, user, command, status, and priority.\n",
    "\n",
    "#### Memory\n",
    "1. **`free -m`:** This command is used to display the amount of **free** and **used memory** on the system in **megabytes**. It shows information about the total, free, and used physical and swap memory, as well as the buffers and cache used by the kernel.\n",
    "\n",
    "#### Kernel\n",
    "1. **`uname -a`:** This command is used to **print** all the **system information**, such as the kernel name, hostname, kernel release, kernel version, machine hardware name, processor type, hardware platform, and operating system.\n",
    "\n",
    "#### Compress & Decompress files\n",
    "1. **`tar`:** This command is used to **create** or **extract compressed** or **uncompressed** archive files. It can bundle multiple files or directories into a single file, or extract them from an existing archive file. It supports various compression methods, such as gzip, bzip2, and xz.\n",
    "\n",
    "2. **`gzip`:** This command is used to **compress** or **decompress files** using the **gzip algorithm**. It can reduce the size of a file and save disk space. It also preserves the original file attributes, such as ownership, timestamp, and mode.\n",
    "\n",
    "#### Transfer Copy\n",
    "1. **`cp`:** This command is used to **copy files** or **directories** from one location to another. It can copy single or multiple files or directories, and preserve their attributes and permissions.\n",
    " \n",
    "#### Move\n",
    "1. **`mv`:** This command is used to **move** or **rename files** or **directories**. It can move single or multiple files or directories from one location to another, or change their names.\n",
    "\n",
    "#### Delete\n",
    "1. **`rm`:** This command is used to delete files or directories. It can delete single or multiple files or directories, and optionally prompt for confirmation before deleting.\n",
    "\n",
    "#### Files between machines\n",
    "1.  **`scp`:** This command is used to securely copy files or directories between remote hosts using SSH. It can copy single or multiple files or directories, and preserve their attributes and permissions.\n",
    "\n",
    "#### Search files\n",
    "1. **`find`:** This command is used to search for files or directories that match certain criteria. It can search by name, type, size, permission, owner, group, date, and more.\n",
    "\n",
    "#### Search in files\n",
    "1. **`grep`:** This command is used to search for lines that match a given pattern in one or more files. It can use regular expressions or fixed strings to specify the pattern."
   ]
  },
  {
   "cell_type": "markdown",
   "id": "78a876e3-cc45-4e1e-97bf-ef1f99a68d45",
   "metadata": {},
   "source": [
    "### File Permissions in UNIX"
   ]
  },
  {
   "cell_type": "markdown",
   "id": "83ac3797-d971-4657-8cc9-2946b28b94eb",
   "metadata": {},
   "source": [
    "```bash\n",
    "-rwxr-xr-- 1 subrata staff 1024 Jan 1 12:34 file.txt\n",
    "```\n",
    "\n",
    "1. The first character **`-`** represents the type of the file, which can be a regular file (-), a directory (d), a symbolic link (l), or other types. The type of the file determines how it can be accessed and manipulated.\n",
    "\n",
    "* The next nine characters **`rwxr-xr--`** (`rwxrwxrwx`) represent the permissions for each class of users, in this order: **owner, group,** and **others**. The permissions for each class of users are represented by three characters, such as rwx, which means read, write, and execute.\n",
    "\n",
    "2. The second character **`r`** represents the read permission for the owner of the file. The read permission allows the user to view the contents of the file or the directory.\n",
    "\n",
    "3. The third character **`w`** represents the write permission for the owner of the file. The write permission allows the user to modify or delete the file or the directory.\n",
    "\n",
    "4. The fourth character **`x`** represents the execute permission for the owner of the file. The execute permission allows the user to run the file as a program or enter the directory.\n",
    "\n",
    "5. The fifth character **`r`** represents the read permission for the group of the file. The group of a file or a directory is the user-group that has been assigned to it. The read permission allows the user to view the contents of the file or the directory.\n",
    "\n",
    "6. The sixth character **`-`** represents the absence of the write permission for the group of the file. The write permission allows the user to modify or delete the file or the directory.\n",
    "\n",
    "7. The seventh character **`x`** represents the execute permission for the group of the file. The execute permission allows the user to run the file as a program or enter the directory.\n",
    "\n",
    "8. The eighth character **`r`** represents the read permission for the others. The others are all the other users on the system who are not the owner or the group members. The read permission allows the user to view the contents of the file or the directory.\n",
    "\n",
    "9. The ninth character **`-`** represents the absence of the write permission for the others. The write permission allows the user to modify or delete the file or the directory.\n",
    "\n",
    "10. The tenth character **`-`** represents the absence of the execute permission for the others. The execute permission allows the user to run the file as a program or enter the directory.\n",
    "\n",
    "11. The eleventh character **`1`** represents the number of links to the file or the directory. A link is a reference to a file or a directory that can have a different name or location. A file or a directory can have multiple links, which means that it can be accessed by different names or paths. The number of links shows how many references exist for the file or the directory.\n",
    "\n",
    "12. The twelfth column **`subrata`** represents the owner of the file or the directory. The owner of a file or a directory is the user who created it or who has been assigned to it. The owner can change the permissions and the ownership of the file or the directory using the **`chmod`** and **`chown`** commands.\n",
    "\n",
    "13. The thirteenth column **`staff`** represents the group of the file or the directory. The group of a file or a directory is the user-group that has been assigned to it. The group can have different permissions than the owner or the others. The group can be changed using the **`chgrp`** command.\n",
    "\n",
    "14. The fourteenth column **`1024`** represents the size of the file or the directory in bytes. The size of a file is the amount of disk space that it occupies. The size of a directory is the amount of disk space that its contents occupy.\n",
    "\n",
    "* The fifteenth and sixteenth columns **`Jan 1 12:34`** represent the modification date and time of the file or the directory. The modification date and time show when the file or the directory was last changed. The format of the date and time can vary depending on the system settings and the locale.\n",
    "\n",
    "* The seventeenth column **`file.txt`** represents the name of the file or the directory. The name of a file or a directory can have any characters, except for the slash (/) and the null character. The name can also have an extension, such as .txt, which can indicate the type or the format of the file."
   ]
  },
  {
   "cell_type": "markdown",
   "id": "d0b055cc-d49a-437c-8a97-dd31ad098d58",
   "metadata": {},
   "source": [
    "### Standard Input, Output and Redirection"
   ]
  },
  {
   "cell_type": "markdown",
   "id": "28493bc2-3d85-460d-aee9-d9663990e45a",
   "metadata": {},
   "source": [
    "**Redirection** in UNIX is a way of changing the source or destination of input and output data for a command. It allows you to use files or other commands as input or output instead of the keyboard or the screen. For example, you can save the output of a command to a file, or use the content of a file as input for a command.\n",
    "\n",
    "There are different types of redirection in UNIX, depending on the standard stream you want to redirect and the mode of redirection. The standard streams are:\n",
    "\n",
    "- **Standard input (stdin):** The source of input data for a command. By default, it is the keyboard. Its stream ID is 0.\n",
    "- **Standard output (stdout):** The output of a command. By default, it is the screen. Its stream ID is 1.\n",
    "- **Standard error (stderr):** The error message (if any) produced by a command. By default, it is also the screen. Its stream ID is 2.\n",
    "\n",
    "The modes of redirection are:\n",
    "\n",
    "- **Overwrite redirection:** This mode replaces the existing content of a file with the output of a command. It uses the symbol `>` for stdout and `<` for stdin. For example, `ls > output.txt` will save the output of the `ls` command to a file named output.txt, and erase any previous content of that file.\n",
    "\n",
    "- **Append redirection:** This mode adds the output of a command to the end of a file, without erasing the existing content. It uses the symbol `>>` for stdout and `<<` for stdin. For example, `date >> output.txt` will append the output of the `date` command to the file output.txt, and preserve the previous content of that file.\n",
    "\n",
    "- **Pipe redirection:** This mode redirects the output of one command to the input of another command. It uses the symbol `|` to connect two commands. For example, `ls | wc -l` will count the number of lines in the output of the `ls` command."
   ]
  },
  {
   "cell_type": "markdown",
   "id": "e8c25103-0fdd-4650-8679-a31a20ad30ba",
   "metadata": {},
   "source": [
    "### Pipe and Filters"
   ]
  },
  {
   "cell_type": "markdown",
   "id": "657091b0-50df-4c88-8159-645173f28658",
   "metadata": {},
   "source": [
    "A **pipe** is a way of connecting the output of one command to the input of another command, using the symbol `|`. \n",
    "\n",
    "A **filter** is a command that takes input from the standard input stream, performs some operation on it, and writes the output to the standard output stream. Some common filter commands are `grep`, `sort`, and `more`.\n",
    "\n",
    "For example, if you want to list all the files in your current directory that contain the word \"hello\", you can use a pipe and a filter like this:\n",
    "\n",
    "`ls | grep hello`\n",
    "\n",
    "This command will first execute `ls`, which lists all the files in your current directory, and then pipe its output to `grep hello`, which searches for the word \"hello\" in each line of input and prints only the matching lines. The result is a list of files that contain the word \"hello\".\n",
    "\n",
    "You can also use multiple pipes and filters to create more complex commands. For example, if you want to sort the files in your current directory by size and display them one page at a time, you can use a pipe and two filters like this:\n",
    "\n",
    "`ls -lS | more`\n",
    "\n",
    "This command will first execute `ls -lS`, which lists all the files in your current directory in long format and sorts them by size, and then pipe its output to `more`, which displays the output one page at a time. You can use the `spacebar` to move to the next page, or press `q` to quit."
   ]
  },
  {
   "cell_type": "markdown",
   "id": "ebbdec2b-8bd5-41bc-9980-4e3936643950",
   "metadata": {},
   "source": [
    "### Other Linux Commands"
   ]
  },
  {
   "cell_type": "markdown",
   "id": "2118b925-efa7-4449-b517-0718b705035c",
   "metadata": {},
   "source": [
    "- **cal:** The cal command displays a calendar of the current or specified month or year in the terminal. For example, `cal 12 2021` shows the calendar of December 2021.\n",
    "\n",
    "- **date:** The date command prints the current date and time in various formats. For example, `date +%A` shows the name of the current day of the week.\n",
    "\n",
    "- **df:** The df command reports the `disk space usage of file systems`. It shows the total, used, and available space in bytes or human-readable units. For example, `df -h /home` shows the disk usage of the /home file system in megabytes or gigabytes.\n",
    "\n",
    "- **du:** The du command estimates the `disk space usage of files and directories`. It shows the size of each file or directory in bytes or human-readable units. For example, `du -sh *` shows the size of all files and directories in the current directory in megabytes or gigabytes.\n",
    "\n",
    "- **jobs:** The jobs command lists the jobs that are running in the background or stopped in the current shell. It shows the job number, status, and command name of each job. For example, `jobs -l` shows the process ID of each job as well.\n",
    "\n",
    "- **kill:** The kill command sends a signal to a process to terminate it. It requires the process ID or the job number of the target process. For example, `kill -9 1234` sends the SIGKILL signal to the process with ID 1234, which forces it to exit immediately.\n",
    "\n",
    "- **lpr** and **lp:** The lpr and lp commands are used to `print files from the terminal`. They can print files specified on the command line or read from the standard input. They can also print to a specific printer or the default printer by using the `-P` option. For example, `lpr -P myprinter file.txt` prints the file.txt to the printer named myprinter.\n",
    "\n",
    "- **rmdir:** The rmdir command `removes empty directories`. It requires the name of the directory to be deleted. For example, `rmdir mydir` deletes the directory named mydir if it is empty.\n",
    "\n",
    "- **set:** The set command sets or unsets shell variables and options. It can also display the values of shell variables and options. For example, `set -x` enables the shell option to print each command before executing it.\n",
    "\n",
    "- **w** and **who:** The w and who commands show information about the users who are currently logged in to the system. They display the username, terminal, login time, and current activity of each user. For example, `w -h` shows the information without the header row."
   ]
  },
  {
   "cell_type": "code",
   "execution_count": null,
   "id": "1d95c8aa-8c1c-43d3-8754-3196d5f859e7",
   "metadata": {},
   "outputs": [],
   "source": []
  }
 ],
 "metadata": {
  "kernelspec": {
   "display_name": "Python 3 (ipykernel)",
   "language": "python",
   "name": "python3"
  },
  "language_info": {
   "codemirror_mode": {
    "name": "ipython",
    "version": 3
   },
   "file_extension": ".py",
   "mimetype": "text/x-python",
   "name": "python",
   "nbconvert_exporter": "python",
   "pygments_lexer": "ipython3",
   "version": "3.11.6"
  }
 },
 "nbformat": 4,
 "nbformat_minor": 5
}
